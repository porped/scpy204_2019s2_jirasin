{
 "cells": [
  {
   "cell_type": "code",
   "execution_count": 1,
   "metadata": {},
   "outputs": [],
   "source": [
    "import matplotlib as mpl\n",
    "import matplotlib.pyplot as plt\n",
    "import numpy as np\n",
    "import pandas"
   ]
  },
  {
   "cell_type": "code",
   "execution_count": 2,
   "metadata": {},
   "outputs": [
    {
     "name": "stdout",
     "output_type": "stream",
     "text": [
      "gzip was not found on your system! You should solve this issue for astroquery.eso to be at its best!\n",
      "On POSIX system: make sure gzip is installed and in your path!On Windows: same for 7-zip (http://www.7-zip.org)!\n",
      "    z         zErr     petroMag_g petroMagErr_g\n",
      "--------- ------------ ---------- -------------\n",
      "0.3686946 0.0001406659   21.48101     0.1797677\n",
      "0.3993107 1.168423e-05   21.15904    0.04984903\n",
      "0.3922184 6.160905e-05   22.15068     0.5117562\n",
      "0.3579538  6.00846e-05   20.70777     0.2684494\n",
      "0.3892539 0.0001486679    20.8112     0.1559958\n",
      "0.3805428 6.982374e-05   21.10719     0.1828725\n",
      "0.3746716 7.780001e-05   20.48088     0.1389187\n",
      "0.3953508   0.00012095   21.30783     0.3466927\n",
      "0.3505642 8.360812e-05   20.48344     0.1327453\n",
      " 0.357241 7.129647e-05   20.56612     0.1030454\n",
      "      ...          ...        ...           ...\n",
      "0.3728335 0.0001007509   21.22245      0.217071\n",
      "0.3496493  0.000116982   22.15206     0.4075115\n",
      "0.3407622 4.973024e-05   20.38345     0.1052939\n",
      "0.3408672 6.383003e-05   21.07368     0.1178463\n",
      "0.3833481 7.354614e-05   22.10532     0.4101155\n",
      "0.3184435  5.28051e-05   20.71461    0.08767967\n",
      "0.3012324 4.172685e-05   20.61466     0.0955392\n",
      "0.3053104 2.744202e-05   19.98938      1.353022\n",
      "0.3472043 5.361126e-05   20.55344     0.0963603\n",
      "0.3002619  5.40566e-05   20.29176     0.1232773\n",
      "0.3142572 5.745034e-05   20.71634     0.2017359\n",
      "Length = 266056 rows\n"
     ]
    }
   ],
   "source": [
    "from astroquery.sdss import SDSS\n",
    "query = \"SELECT s.z, s.zErr, p.petroMag_g, p.petroMagErr_g FROM PhotoObjAll p JOIN SpecObjAll s ON s.bestobjid = p.objid WHERE s.z BETWEEN 0.3 and 0.4 and s.zWarning = 0\"\n",
    "res = SDSS.query_sql(query)\n",
    "print(res)"
   ]
  },
  {
   "cell_type": "code",
   "execution_count": 7,
   "metadata": {},
   "outputs": [
    {
     "data": {
      "image/png": "[encoded data removed]",
      "text/plain": [
       "<Figure size 432x288 with 1 Axes>"
      ]
     },
     "metadata": {
      "needs_background": "light"
     },
     "output_type": "display_data"
    }
   ],
   "source": [
    "x = res['z']\n",
    "y = res['petroMag_g']\n",
    "xerror = res['zErr']\n",
    "yerror = res['petroMagErr_g']\n",
    "\n",
    "plt.plot (x,y,label='Z')\n",
    "plt.errorbar (x,y,yerr=yerror,xerr=xerror, fmt='o')\n",
    "plt.title(\"Graph of Redshift and Petrosian magnitude\")\n",
    "plt.xlabel(\"Redshift\")\n",
    "plt.ylabel(\"Petrosian magnitude\")\n",
    "plt.show ()"
   ]
  },
  {
   "cell_type": "code",
   "execution_count": null,
   "metadata": {},
   "outputs": [],
   "source": []
  }
 ],
 "metadata": {
  "kernelspec": {
   "display_name": "Python 3",
   "language": "python",
   "name": "python3"
  },
  "language_info": {
   "codemirror_mode": {
    "name": "ipython",
    "version": 3
   },
   "file_extension": ".py",
   "mimetype": "text/x-python",
   "name": "python",
   "nbconvert_exporter": "python",
   "pygments_lexer": "ipython3",
   "version": "3.7.4"
  }
 },
 "nbformat": 4,
 "nbformat_minor": 4
}
